{
 "cells": [
  {
   "cell_type": "markdown",
   "metadata": {},
   "source": [
    "# Imports"
   ]
  },
  {
   "cell_type": "code",
   "execution_count": 15,
   "metadata": {},
   "outputs": [],
   "source": [
    "import MySQLdb\n",
    "from pymongo import MongoClient\n",
    "import pandas\n",
    "import numpy as np\n",
    "import json\n",
    "from pprint import pprint\n",
    "import time"
   ]
  },
  {
   "cell_type": "markdown",
   "metadata": {},
   "source": [
    "# Conexão com a base no MongoDB"
   ]
  },
  {
   "cell_type": "code",
   "execution_count": 2,
   "metadata": {},
   "outputs": [],
   "source": [
    "# Conexão com o MongoDB\n",
    "client = MongoClient()\n",
    "client = MongoClient('localhost', 27017)\n",
    "\n",
    "# Cria uma base de dados no MongoDB\n",
    "db_mongo = client['tf_f_dupla1_fim']"
   ]
  },
  {
   "cell_type": "markdown",
   "metadata": {},
   "source": [
    "# Conexão com a base no MySQL"
   ]
  },
  {
   "cell_type": "code",
   "execution_count": 10,
   "metadata": {},
   "outputs": [
    {
     "data": {
      "text/plain": [
       "0"
      ]
     },
     "execution_count": 10,
     "metadata": {},
     "output_type": "execute_result"
    }
   ],
   "source": [
    "# Conexão com o MySQL\n",
    "db = MySQLdb.connect(\"localhost\",\"root\",\"Lucas1@2\",\"tf_f_dupla1_fim\")\n",
    "cursor = db.cursor()\n",
    "\n",
    "# Configurações do MySQL\n",
    "db.set_character_set('utf8')\n",
    "cursor.execute('SET NAMES utf8;')\n",
    "cursor.execute('SET CHARACTER SET utf8;')\n",
    "cursor.execute('SET character_set_connection=utf8;')"
   ]
  },
  {
   "cell_type": "markdown",
   "metadata": {},
   "source": [
    "# Classe para ler e salvar os 'Movies' nas bases"
   ]
  },
  {
   "cell_type": "code",
   "execution_count": 4,
   "metadata": {},
   "outputs": [],
   "source": [
    "# Cria a classe que armazena os filmes como json\n",
    "class ReadMovie():\n",
    "    def __init__(self, path):\n",
    "        self.data = None\n",
    "        self.json_data = None\n",
    "        self.path = path\n",
    "        self.insert = \"\"\"INSERT INTO MOVIE VALUES (%s, %s, %s, %s, %s, %s, %s)\"\"\"\n",
    "        \n",
    "        self.read_data()\n",
    "\n",
    "\n",
    "    def read_data(self):\n",
    "        self.data = pandas.read_csv(self.path,\n",
    "                        usecols=['id', 'title', 'genres', 'overview', 'popularity', 'release_date', 'runtime'])\n",
    "        self.data = self.data.replace(np.nan, None)\n",
    "        self.data.drop_duplicates(subset =\"id\", keep = 'first', inplace = True)\n",
    "        \n",
    "        self.json_data = self.data.to_json(orient = \"records\")\n",
    "\n",
    "\n",
    "    def save_data(self):\n",
    "        aux = 0\n",
    "        for idx, mydata in self.data.iterrows():\n",
    "            idMovie = mydata['id']\n",
    "            title = mydata['title']\n",
    "            genres = json.dumps(mydata['genres'], ensure_ascii=False).encode('utf8')\n",
    "            overview = str(mydata['overview'])\n",
    "            popularity = mydata['popularity']\n",
    "            runtime = mydata['runtime']\n",
    "            release_date = mydata['release_date']\n",
    "            \n",
    "            ans = (idMovie, title, genres, overview, popularity, release_date, runtime)\n",
    "            try:\n",
    "                cursor.execute(self.insert, ans)\n",
    "            except Exception as e:\n",
    "                print(e)\n",
    "        db.commit()\n",
    "\n",
    "\n",
    "    def save_mongo(self):\n",
    "        json_movies = json.loads(self.json_data)\n",
    "\n",
    "        # Cria uma coleção\n",
    "        movies = db_mongo['movie']\n",
    "        movies.insert_many(json_movies)"
   ]
  },
  {
   "cell_type": "markdown",
   "metadata": {},
   "source": [
    "# Função principal"
   ]
  },
  {
   "cell_type": "code",
   "execution_count": 5,
   "metadata": {},
   "outputs": [],
   "source": [
    "def main():\n",
    "    database_save = ReadMovie('./movies_metadata.csv')\n",
    "    database_save.save_data()\n",
    "    database_save.save_mongo()\n",
    "    db.close()"
   ]
  },
  {
   "cell_type": "code",
   "execution_count": 6,
   "metadata": {},
   "outputs": [
    {
     "name": "stderr",
     "output_type": "stream",
     "text": [
      "/home/regis/anaconda3/lib/python3.7/site-packages/ipykernel_launcher.py:1: DtypeWarning: Columns (10) have mixed types. Specify dtype option on import or set low_memory=False.\n",
      "  \"\"\"Entry point for launching an IPython kernel.\n"
     ]
    },
    {
     "name": "stdout",
     "output_type": "stream",
     "text": [
      "(1265, \"Data truncated for column 'idMovie' at row 1\")\n",
      "(1265, \"Data truncated for column 'idMovie' at row 1\")\n",
      "(1265, \"Data truncated for column 'idMovie' at row 1\")\n"
     ]
    }
   ],
   "source": [
    "main()"
   ]
  },
  {
   "cell_type": "code",
   "execution_count": 7,
   "metadata": {},
   "outputs": [
    {
     "name": "stdout",
     "output_type": "stream",
     "text": [
      "{'_id': ObjectId('5de40ae8d0942e0a7932d18d'),\n",
      " 'genres': \"[{'id': 16, 'name': 'Animation'}, {'id': 35, 'name': 'Comedy'}, \"\n",
      "           \"{'id': 10751, 'name': 'Family'}]\",\n",
      " 'id': '862',\n",
      " 'overview': \"Led by Woody, Andy's toys live happily in his room until Andy's \"\n",
      "             'birthday brings Buzz Lightyear onto the scene. Afraid of losing '\n",
      "             \"his place in Andy's heart, Woody plots against Buzz. But when \"\n",
      "             'circumstances separate Buzz and Woody from their owner, the duo '\n",
      "             'eventually learns to put aside their differences.',\n",
      " 'popularity': 21.946943,\n",
      " 'release_date': '1995-10-30',\n",
      " 'runtime': 81.0,\n",
      " 'title': 'Toy Story'}\n"
     ]
    }
   ],
   "source": [
    "myquery = { \"title\": \"Toy Story\" }\n",
    "\n",
    "mydoc = db_mongo['movie'].find(myquery)\n",
    "for doc in mydoc:\n",
    "    pprint(doc)"
   ]
  },
  {
   "cell_type": "markdown",
   "metadata": {},
   "source": [
    "# Desempenho em procurar dados"
   ]
  },
  {
   "cell_type": "code",
   "execution_count": 34,
   "metadata": {},
   "outputs": [
    {
     "name": "stdout",
     "output_type": "stream",
     "text": [
      "Tamanho da base:  (45433,) tuplas\n",
      "\n",
      "Tempo em segundos (MySQL):  0.04988598823547363 \n",
      "\n",
      "(862, 'Toy Story', '\"[{\\'id\\': 16, \\'name\\': \\'Animation\\'}, {\\'id\\': 35, \\'name\\': \\'Comedy\\'}, {\\'id\\': 10751, \\'name\\': \\'Family\\'}]\"', \"Led by Woody, Andy's toys live happily in his room until Andy's birthday brings Buzz Lightyear onto the scene. Afraid of losing his place in Andy's heart, Woody plots against Buzz. But when circumstances separate Buzz and Woody from their owner, the duo eventually learns to put aside their differences.\", Decimal('21.9469430'), datetime.date(1995, 10, 30), 81)\n"
     ]
    }
   ],
   "source": [
    "# Computa o tempo de resposta para o select abaixo\n",
    "start_time = time.time()\n",
    "cursor.execute(\"SELECT * FROM MOVIE WHERE title='Toy Story';\")\n",
    "result = cursor.fetchall()\n",
    "end_time = time.time()\n",
    "\n",
    "# Conta o número de filmes na base\n",
    "cursor.execute('SELECT COUNT(*) FROM MOVIE;')\n",
    "movies_quantity = cursor.fetchall()\n",
    "\n",
    "# Apresenta os resultados de tempo e o documento recuperado\n",
    "print('Tamanho da base: ', *movies_quantity, 'tuplas\\n')\n",
    "print('Tempo em segundos (MySQL): ', end_time-start_time, '\\n')\n",
    "for value in result:\n",
    "    print(x)"
   ]
  },
  {
   "cell_type": "code",
   "execution_count": 35,
   "metadata": {},
   "outputs": [
    {
     "name": "stdout",
     "output_type": "stream",
     "text": [
      "Tamanho da base:  45436 documentos\n",
      "\n",
      "Tempo em segundos (MongoDB):  0.0001697540283203125 \n",
      "\n",
      "{'_id': ObjectId('5de40ae8d0942e0a7932d18d'), 'genres': \"[{'id': 16, 'name': 'Animation'}, {'id': 35, 'name': 'Comedy'}, {'id': 10751, 'name': 'Family'}]\", 'id': '862', 'overview': \"Led by Woody, Andy's toys live happily in his room until Andy's birthday brings Buzz Lightyear onto the scene. Afraid of losing his place in Andy's heart, Woody plots against Buzz. But when circumstances separate Buzz and Woody from their owner, the duo eventually learns to put aside their differences.\", 'popularity': 21.946943, 'release_date': '1995-10-30', 'runtime': 81.0, 'title': 'Toy Story'}\n"
     ]
    }
   ],
   "source": [
    "# Condição de filtro na coleção de filmes\n",
    "query = { \"title\": \"Toy Story\" }\n",
    "\n",
    "# Computa o tempo de resposta para a procura acima\n",
    "start_time = time.time()\n",
    "result = db_mongo['movie'].find(query)\n",
    "end_time = time.time()\n",
    "\n",
    "# Apresenta os resultados de tempo e tupla recuperada\n",
    "print('Tamanho da base: ', db_mongo['movie'].count_documents({}), 'documentos\\n')\n",
    "print('Tempo em segundos (MongoDB): ', end_time-start_time, '\\n')\n",
    "for value in result:\n",
    "    print(value)"
   ]
  },
  {
   "cell_type": "code",
   "execution_count": null,
   "metadata": {},
   "outputs": [],
   "source": []
  }
 ],
 "metadata": {
  "kernelspec": {
   "display_name": "Python 3",
   "language": "python",
   "name": "python3"
  },
  "language_info": {
   "codemirror_mode": {
    "name": "ipython",
    "version": 3
   },
   "file_extension": ".py",
   "mimetype": "text/x-python",
   "name": "python",
   "nbconvert_exporter": "python",
   "pygments_lexer": "ipython3",
   "version": "3.7.3"
  }
 },
 "nbformat": 4,
 "nbformat_minor": 2
}
