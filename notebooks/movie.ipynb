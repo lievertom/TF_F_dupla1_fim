{
 "cells": [
  {
   "cell_type": "markdown",
   "metadata": {},
   "source": [
    "# Imports"
   ]
  },
  {
   "cell_type": "code",
   "execution_count": 1,
   "metadata": {},
   "outputs": [],
   "source": [
    "import MySQLdb\n",
    "from pymongo import MongoClient\n",
    "import pandas\n",
    "import numpy as np\n",
    "import json\n",
    "from pprint import pprint"
   ]
  },
  {
   "cell_type": "markdown",
   "metadata": {},
   "source": [
    "# Conexão com a base no MongoDB"
   ]
  },
  {
   "cell_type": "code",
   "execution_count": 2,
   "metadata": {},
   "outputs": [],
   "source": [
    "# Conexão com o MongoDB\n",
    "client = MongoClient()\n",
    "client = MongoClient('localhost', 27017)\n",
    "\n",
    "# Cria uma base de dados no MongoDB\n",
    "db_mongo = client['tf_f_dupla1_fim']"
   ]
  },
  {
   "cell_type": "markdown",
   "metadata": {},
   "source": [
    "# Conexão com a base no MySQL"
   ]
  },
  {
   "cell_type": "code",
   "execution_count": 3,
   "metadata": {},
   "outputs": [
    {
     "data": {
      "text/plain": [
       "0"
      ]
     },
     "execution_count": 3,
     "metadata": {},
     "output_type": "execute_result"
    }
   ],
   "source": [
    "# Conexão com o MySQL\n",
    "db = MySQLdb.connect(\"localhost\",\"root\",\"SENHA\",\"tf_f_dupla1_fim\")\n",
    "cursor = db.cursor()\n",
    "\n",
    "# Configurações do MySQL\n",
    "db.set_character_set('utf8')\n",
    "cursor.execute('SET NAMES utf8;')\n",
    "cursor.execute('SET CHARACTER SET utf8;')\n",
    "cursor.execute('SET character_set_connection=utf8;')"
   ]
  },
  {
   "cell_type": "markdown",
   "metadata": {},
   "source": [
    "# Classe para ler e salvar os 'Movies' nas bases"
   ]
  },
  {
   "cell_type": "code",
   "execution_count": 4,
   "metadata": {},
   "outputs": [],
   "source": [
    "# Cria a classe que armazena os filmes como json\n",
    "class ReadMovie():\n",
    "    def __init__(self, path):\n",
    "        self.data = None\n",
    "        self.json_data = None\n",
    "        self.path = path\n",
    "        self.insert = \"\"\"INSERT INTO MOVIE VALUES (%s, %s, %s, %s, %s, %s, %s)\"\"\"\n",
    "        \n",
    "        self.read_data()\n",
    "\n",
    "\n",
    "    def read_data(self):\n",
    "        self.data = pandas.read_csv(self.path,\n",
    "                        usecols=['id', 'title', 'genres', 'overview', 'popularity', 'release_date', 'runtime'])\n",
    "        self.data = self.data.replace(np.nan, None)\n",
    "        self.data.drop_duplicates(subset =\"id\", keep = 'first', inplace = True)\n",
    "        \n",
    "        self.json_data = self.data.to_json(orient = \"records\")\n",
    "\n",
    "\n",
    "    def save_data(self):\n",
    "        aux = 0\n",
    "        for idx, mydata in self.data.iterrows():\n",
    "            idMovie = mydata['id']\n",
    "            title = mydata['title']\n",
    "            genres = json.dumps(mydata['genres'], ensure_ascii=False).encode('utf8')\n",
    "            overview = str(mydata['overview'])\n",
    "            popularity = mydata['popularity']\n",
    "            runtime = mydata['runtime']\n",
    "            release_date = mydata['release_date']\n",
    "            \n",
    "            ans = (idMovie, title, genres, overview, popularity, release_date, runtime)\n",
    "            try:\n",
    "                cursor.execute(self.insert, ans)\n",
    "            except Exception as e:\n",
    "                print(e)\n",
    "        db.commit()\n",
    "\n",
    "\n",
    "    def save_mongo(self):\n",
    "        json_movies = json.loads(self.json_data)\n",
    "\n",
    "        # Cria uma coleção\n",
    "        movies = db_mongo['movie']\n",
    "        movies.insert_many(json_movies)"
   ]
  },
  {
   "cell_type": "markdown",
   "metadata": {},
   "source": [
    "# Função principal"
   ]
  },
  {
   "cell_type": "code",
   "execution_count": 5,
   "metadata": {},
   "outputs": [],
   "source": [
    "def main():\n",
    "    database_save = ReadMovie('./movies_metadata.csv')\n",
    "    database_save.save_data()\n",
    "    database_save.save_mongo()\n",
    "    db.close()"
   ]
  },
  {
   "cell_type": "code",
   "execution_count": 6,
   "metadata": {},
   "outputs": [
    {
     "name": "stderr",
     "output_type": "stream",
     "text": [
      "/home/regis/anaconda3/lib/python3.7/site-packages/ipykernel_launcher.py:1: DtypeWarning: Columns (10) have mixed types. Specify dtype option on import or set low_memory=False.\n",
      "  \"\"\"Entry point for launching an IPython kernel.\n"
     ]
    },
    {
     "name": "stdout",
     "output_type": "stream",
     "text": [
      "(1265, \"Data truncated for column 'idMovie' at row 1\")\n",
      "(1265, \"Data truncated for column 'idMovie' at row 1\")\n",
      "(1265, \"Data truncated for column 'idMovie' at row 1\")\n"
     ]
    }
   ],
   "source": [
    "main()"
   ]
  },
  {
   "cell_type": "code",
   "execution_count": 7,
   "metadata": {},
   "outputs": [
    {
     "name": "stdout",
     "output_type": "stream",
     "text": [
      "{'_id': ObjectId('5de40640bb3295ec6a49e10c'),\n",
      " 'genres': \"[{'id': 16, 'name': 'Animation'}, {'id': 35, 'name': 'Comedy'}, \"\n",
      "           \"{'id': 10751, 'name': 'Family'}]\",\n",
      " 'id': '862',\n",
      " 'overview': \"Led by Woody, Andy's toys live happily in his room until Andy's \"\n",
      "             'birthday brings Buzz Lightyear onto the scene. Afraid of losing '\n",
      "             \"his place in Andy's heart, Woody plots against Buzz. But when \"\n",
      "             'circumstances separate Buzz and Woody from their owner, the duo '\n",
      "             'eventually learns to put aside their differences.',\n",
      " 'popularity': 21.946943,\n",
      " 'release_date': '1995-10-30',\n",
      " 'runtime': 81.0,\n",
      " 'title': 'Toy Story'}\n"
     ]
    }
   ],
   "source": [
    "myquery = { \"title\": \"Toy Story\" }\n",
    "\n",
    "mydoc = db_mongo['movie'].find(myquery)\n",
    "for doc in mydoc:\n",
    "    pprint(doc)"
   ]
  },
  {
   "cell_type": "code",
   "execution_count": null,
   "metadata": {},
   "outputs": [],
   "source": []
  }
 ],
 "metadata": {
  "kernelspec": {
   "display_name": "Python 3",
   "language": "python",
   "name": "python3"
  },
  "language_info": {
   "codemirror_mode": {
    "name": "ipython",
    "version": 3
   },
   "file_extension": ".py",
   "mimetype": "text/x-python",
   "name": "python",
   "nbconvert_exporter": "python",
   "pygments_lexer": "ipython3",
   "version": "3.7.3"
  }
 },
 "nbformat": 4,
 "nbformat_minor": 2
}
