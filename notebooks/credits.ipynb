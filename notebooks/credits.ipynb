{
 "cells": [
  {
   "cell_type": "markdown",
   "metadata": {},
   "source": [
    "# Imports"
   ]
  },
  {
   "cell_type": "code",
   "execution_count": 1,
   "metadata": {},
   "outputs": [],
   "source": [
    "import MySQLdb\n",
    "from pymongo import MongoClient\n",
    "import pandas\n",
    "import numpy as np\n",
    "import json"
   ]
  },
  {
   "cell_type": "markdown",
   "metadata": {},
   "source": [
    "# Conexão com a base no MongoDB"
   ]
  },
  {
   "cell_type": "code",
   "execution_count": 2,
   "metadata": {},
   "outputs": [],
   "source": [
    "# Conexão com o MongoDB\n",
    "client = MongoClient()\n",
    "client = MongoClient('localhost', 27017)\n",
    "\n",
    "# Cria uma base de dados no MongoDB\n",
    "db_mongo = client['tf_f_dupla1_fim']"
   ]
  },
  {
   "cell_type": "markdown",
   "metadata": {},
   "source": [
    "# Conexão com a base no MySQL"
   ]
  },
  {
   "cell_type": "code",
   "execution_count": 3,
   "metadata": {},
   "outputs": [
    {
     "data": {
      "text/plain": [
       "0"
      ]
     },
     "execution_count": 3,
     "metadata": {},
     "output_type": "execute_result"
    }
   ],
   "source": [
    "# Conexão com o MySQL\n",
    "db = MySQLdb.connect(\"localhost\",\"root\",\"SENHA\",\"tf_f_dupla1_fim\")\n",
    "cursor = db.cursor()\n",
    "\n",
    "# Configurações do MySQL\n",
    "db.set_character_set('utf8')\n",
    "cursor.execute('SET NAMES utf8;')\n",
    "cursor.execute('SET CHARACTER SET utf8;')\n",
    "cursor.execute('SET character_set_connection=utf8;')"
   ]
  },
  {
   "cell_type": "markdown",
   "metadata": {},
   "source": [
    "# Classe para ler e salvar os 'Credits' nas bases"
   ]
  },
  {
   "cell_type": "code",
   "execution_count": 4,
   "metadata": {},
   "outputs": [],
   "source": [
    "class ReadCredit():\n",
    "    def __init__(self, path):\n",
    "        self.data = None\n",
    "        self.json_data = None\n",
    "        self.path = path\n",
    "        self.insert = \"\"\"INSERT INTO CREDIT VALUES (%s, %s, %s)\"\"\"\n",
    "        \n",
    "        self.read_data()\n",
    "\n",
    "\n",
    "    def read_data(self):\n",
    "        self.data = pandas.read_csv(self.path,\n",
    "                        usecols=['id', 'cast', 'crew'])\n",
    "        self.data = self.data.replace(np.nan, None)\n",
    "        self.json_data = self.data.to_json(orient = \"records\")\n",
    "\n",
    "\n",
    "    def save_data(self):\n",
    "        for idx, mydata in self.data.iterrows():\n",
    "            idMovie = mydata['id']\n",
    "            cast = json.dumps(mydata['cast'], ensure_ascii=False).encode('utf8')\n",
    "            crew = json.dumps(mydata['crew'], ensure_ascii=False).encode('utf8')\n",
    "            \n",
    "            ans = (idMovie, cast, crew)\n",
    "            try:\n",
    "                cursor.execute(self.insert, ans)\n",
    "            except Exception as e:\n",
    "                 print(e)\n",
    "\n",
    "        db.commit()\n",
    "\n",
    "\n",
    "    def save_mongo(self):\n",
    "        json_credits = json.loads(self.json_data)\n",
    "\n",
    "        credits = db_mongo['credit']\n",
    "        credits.insert_many(json_credits)"
   ]
  },
  {
   "cell_type": "markdown",
   "metadata": {},
   "source": [
    "# Função principal"
   ]
  },
  {
   "cell_type": "code",
   "execution_count": 5,
   "metadata": {},
   "outputs": [],
   "source": [
    "def main():\n",
    "    database_save = ReadCredit('./credits.csv')\n",
    "    database_save.save_data()\n",
    "    database_save.save_mongo()\n",
    "    db.close()"
   ]
  },
  {
   "cell_type": "code",
   "execution_count": null,
   "metadata": {},
   "outputs": [],
   "source": [
    "main()"
   ]
  },
  {
   "cell_type": "code",
   "execution_count": null,
   "metadata": {},
   "outputs": [],
   "source": []
  }
 ],
 "metadata": {
  "kernelspec": {
   "display_name": "Python 3",
   "language": "python",
   "name": "python3"
  },
  "language_info": {
   "codemirror_mode": {
    "name": "ipython",
    "version": 3
   },
   "file_extension": ".py",
   "mimetype": "text/x-python",
   "name": "python",
   "nbconvert_exporter": "python",
   "pygments_lexer": "ipython3",
   "version": "3.7.3"
  }
 },
 "nbformat": 4,
 "nbformat_minor": 2
}
