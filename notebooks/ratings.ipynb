{
 "cells": [
  {
   "cell_type": "markdown",
   "metadata": {},
   "source": [
    "# Imports"
   ]
  },
  {
   "cell_type": "code",
   "execution_count": 17,
   "metadata": {},
   "outputs": [],
   "source": [
    "import MySQLdb\n",
    "from pymongo import MongoClient\n",
    "import pandas\n",
    "import numpy as np\n",
    "import json\n",
    "import time\n",
    "import matplotlib.pyplot as plt"
   ]
  },
  {
   "cell_type": "markdown",
   "metadata": {},
   "source": [
    "# Conexão com a base no MongoDB"
   ]
  },
  {
   "cell_type": "code",
   "execution_count": 18,
   "metadata": {},
   "outputs": [],
   "source": [
    "# Conexão com o MongoDB\n",
    "client = MongoClient()\n",
    "client = MongoClient('localhost', 27017)\n",
    "# Cria uma base de dados no MongoDB\n",
    "db_mongo = client['tf_f_dupla1_fim']"
   ]
  },
  {
   "cell_type": "markdown",
   "metadata": {},
   "source": [
    "# Conexão com a base no MySQL"
   ]
  },
  {
   "cell_type": "code",
   "execution_count": 19,
   "metadata": {},
   "outputs": [
    {
     "data": {
      "text/plain": [
       "0"
      ]
     },
     "execution_count": 19,
     "metadata": {},
     "output_type": "execute_result"
    }
   ],
   "source": [
    "# Conexão com o MySQL\n",
    "db = MySQLdb.connect(\"localhost\",\"root\",\"Lucas1@2\",\"tf_f_dupla1_fim\")\n",
    "cursor = db.cursor()\n",
    "\n",
    "# Configurações da base no MySQL\n",
    "db.set_character_set('utf8')\n",
    "cursor.execute('SET NAMES utf8;')\n",
    "cursor.execute('SET CHARACTER SET utf8;')\n",
    "cursor.execute('SET character_set_connection=utf8;')"
   ]
  },
  {
   "cell_type": "markdown",
   "metadata": {},
   "source": [
    "# Classe para ler e salvar os 'Ratings' nas bases"
   ]
  },
  {
   "cell_type": "code",
   "execution_count": 20,
   "metadata": {},
   "outputs": [],
   "source": [
    "class ReadRating():\n",
    "    def __init__(self, path):\n",
    "        self.data = None\n",
    "        self.data2 = None\n",
    "        #self.data3 = None\n",
    "        self.movies = None\n",
    "        self.json_data = None\n",
    "        self.path = path\n",
    "        self.insert = \"\"\"INSERT INTO RATING (user, idMovie, rating) VALUES (%s, %s, %s)\"\"\"\n",
    "        \n",
    "        self.read_data()\n",
    "    def read_data(self):\n",
    "        self.data = pandas.read_csv(self.path,\n",
    "                        usecols=['movieId', 'rating', 'userId']) # , 'timestamp'\n",
    "        self.data = self.data.dropna()\n",
    "        self.data = self.data.sample(n=3000000)\n",
    "        \n",
    "        self.data2 = pandas.read_csv('./movies_metadata.csv', usecols=['id'])\n",
    "        self.data2 = self.data2.rename(columns = {'id': 'movieId'})\n",
    "        self.data2.drop_duplicates(subset ='movieId', keep = 'first', inplace = True)\n",
    "        \n",
    "        self.data['movieId']=self.data['movieId'].astype(str)\n",
    "        self.data2['movieId']=self.data2['movieId'].astype(str)\n",
    "\n",
    "        self.data = self.data.merge(self.data2, on='movieId', how='inner')\n",
    "        self.data = self.data.sample(n=1000000)\n",
    "\n",
    "        self.json_data = self.data.to_json(orient = \"records\")\n",
    "\n",
    "    def save_data(self):\n",
    "        aux = 0\n",
    "        dataframe = self.data.values.tolist()\n",
    "\n",
    "        cursor.executemany(self.insert, dataframe)\n",
    "        db.commit()\n",
    "\n",
    "\n",
    "    def save_mongo(self):\n",
    "        json_ratings = json.loads(self.json_data)\n",
    "\n",
    "        # Cria uma coleção\n",
    "        \n",
    "        ratings = db_mongo['rating']\n",
    "        ratings.insert_many(json_ratings)"
   ]
  },
  {
   "cell_type": "markdown",
   "metadata": {},
   "source": [
    "# Função principal"
   ]
  },
  {
   "cell_type": "code",
   "execution_count": 21,
   "metadata": {},
   "outputs": [],
   "source": [
    "def main():\n",
    "    database_save = ReadRating('./ratings.csv')\n",
    "    database_save.save_data()\n",
    "    database_save.save_mongo()\n",
    "    db.close()"
   ]
  },
  {
   "cell_type": "code",
   "execution_count": 22,
   "metadata": {},
   "outputs": [],
   "source": [
    "main()"
   ]
  },
  {
   "cell_type": "markdown",
   "metadata": {},
   "source": [
    "# Gráficos"
   ]
  },
  {
   "cell_type": "code",
   "execution_count": 16,
   "metadata": {},
   "outputs": [
    {
     "data": {
      "image/png": "[encoded data removed]",
      "text/plain": [
       "<Figure size 432x288 with 1 Axes>"
      ]
     },
     "metadata": {
      "needs_background": "light"
     },
     "output_type": "display_data"
    }
   ],
   "source": [
    "mysql = [52.13107109069824, 38.26264238357544, 37.615535736083984, 37.69218707084656, 38.44320297241211]\n",
    "mongo = [13.959964752197266, 11.40522575378418, 10.29539155960083, 10.296449184417725, 10.397173404693604]\n",
    "ages = [1, 2, 3, 4, 5]\n",
    "\n",
    "plt.plot(ages, mysql, linestyle='dashed', color='g', linewidth = 3, \n",
    "         marker='o', markerfacecolor='blue', markersize=6, label = \"MySQL\")\n",
    "plt.plot(ages, mongo, linestyle='dashed', color='orange', linewidth = 3,\n",
    "         marker='o', markerfacecolor='blue', markersize=6, label = \"MongoDB\")\n",
    "plt.xlabel('Número da Execução (n)')\n",
    "plt.ylabel('Desempenho em segundos (s)')\n",
    "plt.title('Tempo para popular 1 milhão de tuplas')\n",
    "plt.legend()\n",
    "plt.savefig('populate.png')\n",
    "plt.show()"
   ]
  },
  {
   "cell_type": "markdown",
   "metadata": {},
   "source": [
    "# Desempenho em deletar dados"
   ]
  },
  {
   "cell_type": "code",
   "execution_count": 8,
   "metadata": {},
   "outputs": [
    {
     "name": "stdout",
     "output_type": "stream",
     "text": [
      "Tamanho da base:  1000000 documentos\n",
      "\n"
     ]
    },
    {
     "name": "stderr",
     "output_type": "stream",
     "text": [
      "/home/regis/anaconda3/lib/python3.7/site-packages/ipykernel_launcher.py:5: DeprecationWarning: remove is deprecated. Use delete_one or delete_many instead.\n",
      "  \"\"\"\n"
     ]
    },
    {
     "name": "stdout",
     "output_type": "stream",
     "text": [
      "Tempo em segundos (MongoDB):  6.839916229248047 \n",
      "\n"
     ]
    }
   ],
   "source": [
    "print('Tamanho da base: ', db_mongo['rating'].count_documents({}), 'documentos\\n')\n",
    "\n",
    "# Computa o tempo para excluir as tuplas de rating\n",
    "start_time = time.time()\n",
    "db_mongo['rating'].remove({})\n",
    "end_time = time.time()\n",
    "\n",
    "# Tempo para excluir 1 milhão de tuplas\n",
    "print('Tempo em segundos (MongoDB): ', end_time-start_time, '\\n')"
   ]
  },
  {
   "cell_type": "code",
   "execution_count": 15,
   "metadata": {},
   "outputs": [
    {
     "name": "stdout",
     "output_type": "stream",
     "text": [
      "Tamanho da base:  (1000000,) tuplas\n",
      "\n",
      "Tempo em segundos (MySQL):  32.65891408920288 \n",
      "\n"
     ]
    }
   ],
   "source": [
    "cursor.execute('SELECT COUNT(*) FROM RATING;')\n",
    "ratings = cursor.fetchall()\n",
    "print('Tamanho da base: ', *ratings, 'tuplas\\n')\n",
    "\n",
    "# Computa o tempo para excluir as tuplas de rating\n",
    "start_time = time.time()\n",
    "cursor.execute(\"DELETE FROM RATING;\")\n",
    "end_time = time.time()\n",
    "\n",
    "# Tempo para excluir 1 milhão de tuplas\n",
    "print('Tempo em segundos (MySQL): ', end_time-start_time, '\\n')"
   ]
  },
  {
   "cell_type": "code",
   "execution_count": null,
   "metadata": {},
   "outputs": [],
   "source": []
  }
 ],
 "metadata": {
  "kernelspec": {
   "display_name": "Python 3",
   "language": "python",
   "name": "python3"
  },
  "language_info": {
   "codemirror_mode": {
    "name": "ipython",
    "version": 3
   },
   "file_extension": ".py",
   "mimetype": "text/x-python",
   "name": "python",
   "nbconvert_exporter": "python",
   "pygments_lexer": "ipython3",
   "version": "3.7.3"
  }
 },
 "nbformat": 4,
 "nbformat_minor": 2
}
